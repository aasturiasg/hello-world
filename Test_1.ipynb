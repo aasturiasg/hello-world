{
  "nbformat": 4,
  "nbformat_minor": 0,
  "metadata": {
    "colab": {
      "name": "Test 1",
      "provenance": [],
      "authorship_tag": "ABX9TyO7l9bPV9/rHU0SUcWdj8nZ",
      "include_colab_link": true
    },
    "kernelspec": {
      "name": "python3",
      "display_name": "Python 3"
    },
    "language_info": {
      "name": "python"
    }
  },
  "cells": [
    {
      "cell_type": "markdown",
      "metadata": {
        "id": "view-in-github",
        "colab_type": "text"
      },
      "source": [
        "<a href=\"https://colab.research.google.com/github/aasturiasg/hello-world/blob/Colab---Test/Test_1.ipynb\" target=\"_parent\"><img src=\"https://colab.research.google.com/assets/colab-badge.svg\" alt=\"Open In Colab\"/></a>"
      ]
    },
    {
      "cell_type": "markdown",
      "source": [
        "This is just a test of Google Colab"
      ],
      "metadata": {
        "id": "SBxpZggeQ-fE"
      }
    },
    {
      "cell_type": "code",
      "execution_count": null,
      "metadata": {
        "colab": {
          "base_uri": "https://localhost:8080/"
        },
        "id": "DiFH6WeeQwMx",
        "outputId": "fc355751-8a73-4c15-9975-990c32ae04be"
      },
      "outputs": [
        {
          "output_type": "stream",
          "name": "stdout",
          "text": [
            "This is just a Google Colab Test\n"
          ]
        }
      ],
      "source": [
        "title = \"Google Colab Test\"\n",
        "print(\"This is just a \" + title)"
      ]
    }
  ]
}